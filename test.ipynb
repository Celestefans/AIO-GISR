{
 "cells": [
  {
   "cell_type": "code",
   "execution_count": 1,
   "metadata": {},
   "outputs": [],
   "source": [
    "import os  \n",
    "from data.dataset import *\n",
    "import numpy as np\n",
    "import torch\n",
    "from torch import nn\n",
    "import torch.utils.data as data\n",
    "from torch.utils.data import DataLoader \n",
    "from tqdm import tqdm\n",
    "from tools.evaluation_metric import  SSIM, SAM, ERGAS, Fssim, Frmse, Fpsnr, midd_calc_rmse, calc_rmse\n",
    "from skimage.metrics import peak_signal_noise_ratio as PSNR\n",
    "from model.Ablation.moe_IFM_clip import MOE_IFM_Clip\n",
    "os.environ['CUDA_VISIBLE_DEVICES']='0' \n",
    "\n",
    "test_exp_name = 'MOE_IFM_Clip_7tasks'\n",
    "weight_path = './Checkpoint/All-in-one/MOE_IFM_Clip_7tasks/Best_PSNR_MRI.pth'\n",
    "save_test_path = os.path.join('./Checkpoint/test_metric','{}.txt'.format(test_exp_name))\n",
    "os.makedirs(os.path.dirname(save_test_path), exist_ok=True)\n",
    "\n",
    "# 创建、加载模型\n",
    "model = MOE_IFM_Clip(dim = 22, num_blocks=[3, 4, 4, 5]).cuda()\n",
    "model.load_state_dict(torch.load(weight_path)['model_state_dict'])\n",
    "clip_feat = torch.load('./data/SR_text_feature_GF2_WV4_QB_MRI_Dep4_Dep8_Dep16.th').cuda()\n",
    "\n",
    "\n",
    "# 数据集路径\n",
    "depth_NYU_root = '/data/cjj/dataset/NYU_V2'\n",
    "depth_Middlebury_root = '/data/cjj/dataset/Depth_Enh/01_Middlebury_Dataset'\n",
    "depth_Lu_root = '/data/cjj/dataset/Depth_Enh/03_RGBD_Dataset'\n",
    "\n",
    "mri_root = '/data/wtt/WJ_Code_DURE_HF/MRI_dataset/BT'\n",
    "\n",
    "pan_WV4_root = '/data/datasets/pansharpening/NBU_dataset0730/WV4'\n",
    "pan_QB_root = '/data/datasets/pansharpening/NBU_dataset0730/QB'\n",
    "pan_GF1_root = '/data/datasets/pansharpening/NBU_dataset0730/GF1'\n"
   ]
  },
  {
   "cell_type": "code",
   "execution_count": 2,
   "metadata": {},
   "outputs": [
    {
     "name": "stdout",
     "output_type": "stream",
     "text": [
      "\n",
      "Testing Middlebury x4\n",
      "30\n"
     ]
    },
    {
     "name": "stderr",
     "output_type": "stream",
     "text": [
      "                                                                   \r"
     ]
    },
    {
     "name": "stdout",
     "output_type": "stream",
     "text": [
      "Middlebury x4 RMSE: 2.8180\n",
      "\n",
      "Testing Middlebury x8\n",
      "30\n"
     ]
    },
    {
     "name": "stderr",
     "output_type": "stream",
     "text": [
      "                                                                   \r"
     ]
    },
    {
     "name": "stdout",
     "output_type": "stream",
     "text": [
      "Middlebury x8 RMSE: 1.7720\n",
      "\n",
      "Testing Middlebury x16\n",
      "30\n"
     ]
    },
    {
     "name": "stderr",
     "output_type": "stream",
     "text": [
      "                                                                   \r"
     ]
    },
    {
     "name": "stdout",
     "output_type": "stream",
     "text": [
      "Middlebury x16 RMSE: 2.9742\n",
      "\n",
      "Testing Middlebury x4\n",
      "6\n"
     ]
    },
    {
     "name": "stderr",
     "output_type": "stream",
     "text": [
      "                                                         \r"
     ]
    },
    {
     "name": "stdout",
     "output_type": "stream",
     "text": [
      "Lu x4 RMSE: 0.9930\n",
      "\n",
      "Testing Middlebury x8\n",
      "6\n"
     ]
    },
    {
     "name": "stderr",
     "output_type": "stream",
     "text": [
      "                                                         \r"
     ]
    },
    {
     "name": "stdout",
     "output_type": "stream",
     "text": [
      "Lu x8 RMSE: 1.8119\n",
      "\n",
      "Testing Middlebury x16\n",
      "6\n"
     ]
    },
    {
     "name": "stderr",
     "output_type": "stream",
     "text": [
      "                                                         \r"
     ]
    },
    {
     "name": "stdout",
     "output_type": "stream",
     "text": [
      "Lu x16 RMSE: 4.1471\n"
     ]
    },
    {
     "ename": "NameError",
     "evalue": "name 'nyu_rmse' is not defined",
     "output_type": "error",
     "traceback": [
      "\u001b[0;31m---------------------------------------------------------------------------\u001b[0m",
      "\u001b[0;31mNameError\u001b[0m                                 Traceback (most recent call last)",
      "Cell \u001b[0;32mIn[2], line 92\u001b[0m\n\u001b[1;32m     90\u001b[0m \u001b[38;5;28;01mwith\u001b[39;00m \u001b[38;5;28mopen\u001b[39m(save_test_path, \u001b[38;5;124m'\u001b[39m\u001b[38;5;124mw\u001b[39m\u001b[38;5;124m'\u001b[39m) \u001b[38;5;28;01mas\u001b[39;00m f:\n\u001b[1;32m     91\u001b[0m     f\u001b[38;5;241m.\u001b[39mwrite(\u001b[38;5;124m\"\u001b[39m\u001b[38;5;124mNYU RMSE Results:\u001b[39m\u001b[38;5;130;01m\\n\u001b[39;00m\u001b[38;5;124m\"\u001b[39m)\n\u001b[0;32m---> 92\u001b[0m     \u001b[38;5;28;01mfor\u001b[39;00m scale, rmse \u001b[38;5;129;01min\u001b[39;00m \u001b[38;5;28mzip\u001b[39m(test_scales, \u001b[43mnyu_rmse\u001b[49m):\n\u001b[1;32m     93\u001b[0m         f\u001b[38;5;241m.\u001b[39mwrite(\u001b[38;5;124mf\u001b[39m\u001b[38;5;124m\"\u001b[39m\u001b[38;5;124mScale \u001b[39m\u001b[38;5;132;01m{\u001b[39;00mscale\u001b[38;5;132;01m}\u001b[39;00m\u001b[38;5;124m: RMSE = \u001b[39m\u001b[38;5;132;01m{\u001b[39;00mrmse\u001b[38;5;132;01m:\u001b[39;00m\u001b[38;5;124m.4f\u001b[39m\u001b[38;5;132;01m}\u001b[39;00m\u001b[38;5;130;01m\\n\u001b[39;00m\u001b[38;5;124m\"\u001b[39m)\n\u001b[1;32m     95\u001b[0m     f\u001b[38;5;241m.\u001b[39mwrite(\u001b[38;5;124m\"\u001b[39m\u001b[38;5;130;01m\\n\u001b[39;00m\u001b[38;5;124mMiddlebury RMSE Results:\u001b[39m\u001b[38;5;130;01m\\n\u001b[39;00m\u001b[38;5;124m\"\u001b[39m)\n",
      "\u001b[0;31mNameError\u001b[0m: name 'nyu_rmse' is not defined"
     ]
    }
   ],
   "source": [
    "## Depth测试\n",
    "def test_MI_LU(net,dataloader,dataset_name,scale):\n",
    "    net.eval()\n",
    "    if dataset_name == \"Middlebury\":\n",
    "        rmse = np.zeros(30)\n",
    "    elif dataset_name == \"Lu\":\n",
    "        rmse = np.zeros(6)\n",
    "\n",
    "    if scale == 4:\n",
    "        clip_feature = clip_feat[4]\n",
    "    elif scale == 8:\n",
    "        clip_feature = clip_feat[5]\n",
    "    elif scale == 16:\n",
    "        clip_feature = clip_feat[6]\n",
    "    with torch.no_grad():\n",
    "        pbar = tqdm(dataloader, desc=f'Testing {dataset_name}', leave=False)  # leave=False 可以在完成后清除进度条\n",
    "        for index, data in enumerate(pbar):\n",
    "            gt = data['gt'].cuda()\n",
    "            guidance = data['guidance'].cuda()\n",
    "            lr = data['lr'].cuda()\n",
    "\n",
    "            H, W = guidance.shape[2], guidance.shape[3]\n",
    "            new_H, new_W = (H // 8) * 8, (W // 8) * 8  # 裁剪成8的整数倍\n",
    "            \n",
    "            guidance = guidance[:, :, :new_H, :new_W]\n",
    "            gt = gt[:, :, :new_H, :new_W]\n",
    "            \n",
    "            img_predict = net(lr, guidance, clip_feature)\n",
    "            rmse[index] = midd_calc_rmse(img_predict[0,0], gt[0,0])\n",
    "    return rmse.mean()\n",
    "\n",
    "def test_NYU(net, dataloader, test_minmax, scale):\n",
    "    net.eval()\n",
    "    count = 0\n",
    "    sum_rmse = 0\n",
    "    if scale == 4:\n",
    "        clip_feature = clip_feat[4]\n",
    "    elif scale == 8:\n",
    "        clip_feature = clip_feat[5]\n",
    "    elif scale == 16:\n",
    "        clip_feature = clip_feat[6]\n",
    "    with torch.no_grad():\n",
    "        pbar = tqdm(dataloader, desc=f'Testing NYU x{scale}', leave=True)\n",
    "        for index, data in enumerate(pbar):\n",
    "            count += 1\n",
    "            lr = data[0].cuda()\n",
    "            gt = data[1].cuda()  \n",
    "            guidance = data[2].cuda()\n",
    "            img_predict = net(lr, guidance, clip_feature)[0]\n",
    "            rmse = calc_rmse(img_predict[0], gt[0, 0], torch.from_numpy(test_minmax[:, index]).cuda())\n",
    "            sum_rmse += rmse\n",
    "    return sum_rmse / count\n",
    "\n",
    "data_transform = transforms.Compose([transforms.ToTensor()])\n",
    "test_scales = [4, 8, 16]\n",
    "test_minmax = np.load(f'{depth_NYU_root}/test_minmax.npy')\n",
    "\n",
    "# 测试NYU数据集\n",
    "# nyu_rmse = []\n",
    "# for scale in test_scales:\n",
    "#     print(f\"\\nTesting NYU x{scale}\")\n",
    "#     val_nyu_dataset = NYU_v2_datset(root_dir=depth_NYU_root, scale=scale, transform=data_transform, train=False)\n",
    "#     val_nyu_dataloader = DataLoader(val_nyu_dataset, batch_size=1, shuffle=False)\n",
    "#     print(len(val_nyu_dataloader))\n",
    "#     rmse = test_NYU(model, val_nyu_dataloader, test_minmax, scale)\n",
    "#     nyu_rmse.append(rmse)\n",
    "#     print(f\"NYU x{scale} RMSE: {rmse:.4f}\")\n",
    "\n",
    "# 测试Middlebury数据集 \n",
    "middlebury_rmse = []\n",
    "for scale in test_scales:\n",
    "    print(f\"\\nTesting Middlebury x{scale}\")\n",
    "    val_middlebury_dataset = Depth_test_dataset(root_dir=depth_Middlebury_root, scale=scale, transform=data_transform)\n",
    "    val_middlebury_dataloader = DataLoader(val_middlebury_dataset, batch_size=1, shuffle=False)\n",
    "    rmse = test_MI_LU(model, val_middlebury_dataloader, \"Middlebury\", scale)\n",
    "    middlebury_rmse.append(rmse)\n",
    "    print(f\"Middlebury x{scale} RMSE: {rmse:.4f}\")\n",
    "\n",
    "# 测试Lu数据集\n",
    "lu_rmse = []\n",
    "for scale in test_scales:\n",
    "    print(f\"\\nTesting Middlebury x{scale}\")\n",
    "    val_lu_dataset = Depth_test_dataset(root_dir=depth_Lu_root, scale=scale, transform=data_transform)\n",
    "    val_lu_dataloader = DataLoader(val_lu_dataset, batch_size=1, shuffle=False)\n",
    "    rmse = test_MI_LU(model, val_lu_dataloader, \"Lu\", scale)\n",
    "    lu_rmse.append(rmse)\n",
    "    print(f\"Lu x{scale} RMSE: {rmse:.4f}\")\n",
    "\n",
    "# 保存结果到save_test_path\n",
    "with open(save_test_path, 'w') as f:\n",
    "    f.write(\"NYU RMSE Results:\\n\")\n",
    "    for scale, rmse in zip(test_scales, nyu_rmse):\n",
    "        f.write(f\"Scale {scale}: RMSE = {rmse:.4f}\\n\")\n",
    "    \n",
    "    f.write(\"\\nMiddlebury RMSE Results:\\n\")\n",
    "    for scale, rmse in zip(test_scales, middlebury_rmse):\n",
    "        f.write(f\"Scale {scale}: RMSE = {rmse:.4f}\\n\")\n",
    "    \n",
    "    f.write(\"\\nLu RMSE Results:\\n\")\n",
    "    for scale, rmse in zip(test_scales, lu_rmse):\n",
    "        f.write(f\"Scale {scale}: RMSE = {rmse:.4f}\\n\")\n",
    "\n",
    "print(f\"Results saved to {save_test_path}\")\n",
    "\n",
    "\n",
    "\n"
   ]
  }
 ],
 "metadata": {
  "kernelspec": {
   "display_name": "AIO-GISR",
   "language": "python",
   "name": "python3"
  },
  "language_info": {
   "codemirror_mode": {
    "name": "ipython",
    "version": 3
   },
   "file_extension": ".py",
   "mimetype": "text/x-python",
   "name": "python",
   "nbconvert_exporter": "python",
   "pygments_lexer": "ipython3",
   "version": "3.8.17"
  }
 },
 "nbformat": 4,
 "nbformat_minor": 2
}
